{
 "cells": [
  {
   "cell_type": "code",
   "execution_count": 1,
   "id": "4bc9c46c-ef3d-47e4-ba01-ea8bf341a0c2",
   "metadata": {},
   "outputs": [],
   "source": [
    "import requests"
   ]
  },
  {
   "cell_type": "markdown",
   "id": "ea253775-8c1b-4d14-807c-76be39261c07",
   "metadata": {},
   "source": [
    "#### Make an API call and store the response."
   ]
  },
  {
   "cell_type": "code",
   "execution_count": 2,
   "id": "3494da30-4ec0-48ce-ae54-ab06b3e681be",
   "metadata": {},
   "outputs": [
    {
     "name": "stdout",
     "output_type": "stream",
     "text": [
      "Status code: 200\n"
     ]
    }
   ],
   "source": [
    "url = 'https://api.github.com/search/repositories?q=language:python&sort=stars'\n",
    "headers = {'Accept': 'application/vnd.github.v3+json'}\n",
    "r = requests.get(url, headers=headers)\n",
    "print(f\"Status code: {r.status_code}\")"
   ]
  },
  {
   "cell_type": "markdown",
   "id": "20ebd678-f673-4fed-bda4-5c6c00ad0be5",
   "metadata": {},
   "source": [
    "#### Store API response in a variable."
   ]
  },
  {
   "cell_type": "code",
   "execution_count": 3,
   "id": "af536686-befc-4e6f-ae49-8670f90f0b56",
   "metadata": {},
   "outputs": [
    {
     "name": "stdout",
     "output_type": "stream",
     "text": [
      "Total repositories: 9306597\n"
     ]
    }
   ],
   "source": [
    "response_dict = r.json()\n",
    "print(f\"Total repositories: {response_dict['total_count']}\")"
   ]
  },
  {
   "cell_type": "markdown",
   "id": "e447d97d-5fdc-4bcb-ad64-a15703d87e1d",
   "metadata": {},
   "source": [
    "#### Explore information about the repositories."
   ]
  },
  {
   "cell_type": "code",
   "execution_count": 4,
   "id": "935827bd-e7cf-4b03-8a51-aea823023d19",
   "metadata": {},
   "outputs": [
    {
     "name": "stdout",
     "output_type": "stream",
     "text": [
      "Repositories returned: 30\n"
     ]
    }
   ],
   "source": [
    "repo_dicts = response_dict['items']\n",
    "print(f\"Repositories returned: {len(repo_dicts)}\")"
   ]
  },
  {
   "cell_type": "markdown",
   "id": "2c113e97-b471-425b-9c6c-67ff19db7df2",
   "metadata": {},
   "source": [
    "#### Examine the first repository."
   ]
  },
  {
   "cell_type": "code",
   "execution_count": 5,
   "id": "2e6b6fa0-3983-43ab-9de1-f35c61389def",
   "metadata": {},
   "outputs": [
    {
     "name": "stdout",
     "output_type": "stream",
     "text": [
      "\n",
      "Selected information about first repository:\n",
      "Name: awesome-python\n",
      "Owner: vinta\n",
      "Stars: 137405\n",
      "Repository: https://github.com/vinta/awesome-python\n",
      "Created: 2014-06-27T21:00:06Z\n",
      "Updated: 2022-08-14T15:53:20Z\n",
      "Description: A curated list of awesome Python frameworks, libraries, software and resources\n"
     ]
    }
   ],
   "source": [
    "repo_dict = repo_dicts[0]\n",
    "\n",
    "print(\"\\nSelected information about first repository:\")\n",
    "print(f\"Name: {repo_dict['name']}\")\n",
    "print(f\"Owner: {repo_dict['owner']['login']}\")\n",
    "print(f\"Stars: {repo_dict['stargazers_count']}\")\n",
    "print(f\"Repository: {repo_dict['html_url']}\")\n",
    "print(f\"Created: {repo_dict['created_at']}\")\n",
    "print(f\"Updated: {repo_dict['updated_at']}\")\n",
    "print(f\"Description: {repo_dict['description']}\")"
   ]
  }
 ],
 "metadata": {
  "kernelspec": {
   "display_name": "Python 3 (ipykernel)",
   "language": "python",
   "name": "python3"
  },
  "language_info": {
   "codemirror_mode": {
    "name": "ipython",
    "version": 3
   },
   "file_extension": ".py",
   "mimetype": "text/x-python",
   "name": "python",
   "nbconvert_exporter": "python",
   "pygments_lexer": "ipython3",
   "version": "3.7.10"
  }
 },
 "nbformat": 4,
 "nbformat_minor": 5
}
