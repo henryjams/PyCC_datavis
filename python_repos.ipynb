{
 "cells": [
  {
   "cell_type": "code",
   "execution_count": 14,
   "id": "4bc9c46c-ef3d-47e4-ba01-ea8bf341a0c2",
   "metadata": {},
   "outputs": [],
   "source": [
    "import requests"
   ]
  },
  {
   "cell_type": "markdown",
   "id": "ea253775-8c1b-4d14-807c-76be39261c07",
   "metadata": {},
   "source": [
    "#### Make an API call and store the response."
   ]
  },
  {
   "cell_type": "code",
   "execution_count": 15,
   "id": "3494da30-4ec0-48ce-ae54-ab06b3e681be",
   "metadata": {},
   "outputs": [
    {
     "name": "stdout",
     "output_type": "stream",
     "text": [
      "Status code: 200\n"
     ]
    }
   ],
   "source": [
    "url = 'https://api.github.com/search/repositories?q=language:python&sort=stars'\n",
    "headers = {'Accept': 'application/vnd.github.v3+json'}\n",
    "r = requests.get(url, headers=headers)\n",
    "print(f\"Status code: {r.status_code}\")"
   ]
  },
  {
   "cell_type": "markdown",
   "id": "20ebd678-f673-4fed-bda4-5c6c00ad0be5",
   "metadata": {},
   "source": [
    "#### Store API response in a variable."
   ]
  },
  {
   "cell_type": "code",
   "execution_count": 16,
   "id": "af536686-befc-4e6f-ae49-8670f90f0b56",
   "metadata": {},
   "outputs": [
    {
     "name": "stdout",
     "output_type": "stream",
     "text": [
      "Total repositories: 9183991\n"
     ]
    }
   ],
   "source": [
    "response_dict = r.json()\n",
    "print(f\"Total repositories: {response_dict['total_count']}\")"
   ]
  },
  {
   "cell_type": "markdown",
   "id": "e447d97d-5fdc-4bcb-ad64-a15703d87e1d",
   "metadata": {},
   "source": [
    "#### Explore information about the repositories."
   ]
  },
  {
   "cell_type": "code",
   "execution_count": 17,
   "id": "935827bd-e7cf-4b03-8a51-aea823023d19",
   "metadata": {},
   "outputs": [
    {
     "name": "stdout",
     "output_type": "stream",
     "text": [
      "Repositories returned: 30\n"
     ]
    }
   ],
   "source": [
    "repo_dicts = response_dict['items']\n",
    "print(f\"Repositories returned: {len(repo_dicts)}\")"
   ]
  },
  {
   "cell_type": "markdown",
   "id": "2c113e97-b471-425b-9c6c-67ff19db7df2",
   "metadata": {},
   "source": [
    "#### Examine the first repository."
   ]
  },
  {
   "cell_type": "code",
   "execution_count": 18,
   "id": "2e6b6fa0-3983-43ab-9de1-f35c61389def",
   "metadata": {},
   "outputs": [
    {
     "name": "stdout",
     "output_type": "stream",
     "text": [
      "\n",
      "Keys: 79\n",
      "allow_forking\n",
      "archive_url\n",
      "archived\n",
      "assignees_url\n",
      "blobs_url\n",
      "branches_url\n",
      "clone_url\n",
      "collaborators_url\n",
      "comments_url\n",
      "commits_url\n",
      "compare_url\n",
      "contents_url\n",
      "contributors_url\n",
      "created_at\n",
      "default_branch\n",
      "deployments_url\n",
      "description\n",
      "disabled\n",
      "downloads_url\n",
      "events_url\n",
      "fork\n",
      "forks\n",
      "forks_count\n",
      "forks_url\n",
      "full_name\n",
      "git_commits_url\n",
      "git_refs_url\n",
      "git_tags_url\n",
      "git_url\n",
      "has_downloads\n",
      "has_issues\n",
      "has_pages\n",
      "has_projects\n",
      "has_wiki\n",
      "homepage\n",
      "hooks_url\n",
      "html_url\n",
      "id\n",
      "is_template\n",
      "issue_comment_url\n",
      "issue_events_url\n",
      "issues_url\n",
      "keys_url\n",
      "labels_url\n",
      "language\n",
      "languages_url\n",
      "license\n",
      "merges_url\n",
      "milestones_url\n",
      "mirror_url\n",
      "name\n",
      "node_id\n",
      "notifications_url\n",
      "open_issues\n",
      "open_issues_count\n",
      "owner\n",
      "private\n",
      "pulls_url\n",
      "pushed_at\n",
      "releases_url\n",
      "score\n",
      "size\n",
      "ssh_url\n",
      "stargazers_count\n",
      "stargazers_url\n",
      "statuses_url\n",
      "subscribers_url\n",
      "subscription_url\n",
      "svn_url\n",
      "tags_url\n",
      "teams_url\n",
      "topics\n",
      "trees_url\n",
      "updated_at\n",
      "url\n",
      "visibility\n",
      "watchers\n",
      "watchers_count\n",
      "web_commit_signoff_required\n"
     ]
    }
   ],
   "source": [
    "repo_dict = repo_dicts[0]\n",
    "print(f\"\\nKeys: {len(repo_dict)}\")\n",
    "for key in sorted(repo_dict.keys()):\n",
    "    print(key)"
   ]
  }
 ],
 "metadata": {
  "kernelspec": {
   "display_name": "Python 3 (ipykernel)",
   "language": "python",
   "name": "python3"
  },
  "language_info": {
   "codemirror_mode": {
    "name": "ipython",
    "version": 3
   },
   "file_extension": ".py",
   "mimetype": "text/x-python",
   "name": "python",
   "nbconvert_exporter": "python",
   "pygments_lexer": "ipython3",
   "version": "3.7.10"
  }
 },
 "nbformat": 4,
 "nbformat_minor": 5
}
