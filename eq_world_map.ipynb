{
 "cells": [
  {
   "cell_type": "code",
   "execution_count": 33,
   "id": "0ef440ff-d84f-433c-a8f7-50b811698362",
   "metadata": {},
   "outputs": [],
   "source": [
    "import json\n",
    "\n",
    "from plotly.graph_objs import Scattergeo, Layout\n",
    "from plotly import offline"
   ]
  },
  {
   "cell_type": "markdown",
   "id": "f041034c-91f5-48c6-b2a5-99c94bbfddc0",
   "metadata": {},
   "source": [
    "### Explore the structure of the data:"
   ]
  },
  {
   "cell_type": "code",
   "execution_count": 34,
   "id": "64e271f8-6965-4dd0-8cb0-4cc2562e56cb",
   "metadata": {},
   "outputs": [],
   "source": [
    "filename = 'data/eq_data_30_day_m1.json'\n",
    "with open(filename) as f:\n",
    "    all_eq_data = json.load(f)\n",
    "    \n",
    "all_eq_dicts = all_eq_data['features']"
   ]
  },
  {
   "cell_type": "code",
   "execution_count": 35,
   "id": "2c612407-08f8-4fcc-a65b-55df8b27d87f",
   "metadata": {},
   "outputs": [],
   "source": [
    "mags, lons, lats = [], [], []\n",
    "\n",
    "for eq_dict in all_eq_dicts:\n",
    "    mag = eq_dict['properties']['mag']\n",
    "    lon = eq_dict['geometry']['coordinates'][0]\n",
    "    lat = eq_dict['geometry']['coordinates'][1]\n",
    "    mags.append(mag)\n",
    "    lons.append(lon)\n",
    "    lats.append(lat)"
   ]
  },
  {
   "cell_type": "markdown",
   "id": "119123e2-34f0-41d2-8a13-b20992c2abb6",
   "metadata": {},
   "source": [
    "### Map the earthquakes:"
   ]
  },
  {
   "cell_type": "code",
   "execution_count": 36,
   "id": "18474c4e-2d12-40f2-97e1-fbfdc7187033",
   "metadata": {},
   "outputs": [
    {
     "data": {
      "text/plain": [
       "'global_earthquakes.html'"
      ]
     },
     "execution_count": 36,
     "metadata": {},
     "output_type": "execute_result"
    }
   ],
   "source": [
    "data = [{\n",
    "    'type':'scattergeo',\n",
    "    'lon': lons,\n",
    "    'lat': lats,\n",
    "    'marker':{\n",
    "        'size': [9*mag for mag in mags],\n",
    "        'color': mags,\n",
    "        'colorscale': 'Viridis',\n",
    "        'reversescale': True,\n",
    "        'colorbar': {'title': 'Magnitude'},\n",
    "    },\n",
    "}]\n",
    "my_layout = Layout(title='Global Earthquakes')\n",
    "\n",
    "fig = {'data': data, 'layout': my_layout}\n",
    "offline.plot(fig, filename='global_earthquakes.html')"
   ]
  }
 ],
 "metadata": {
  "kernelspec": {
   "display_name": "Python 3 (ipykernel)",
   "language": "python",
   "name": "python3"
  },
  "language_info": {
   "codemirror_mode": {
    "name": "ipython",
    "version": 3
   },
   "file_extension": ".py",
   "mimetype": "text/x-python",
   "name": "python",
   "nbconvert_exporter": "python",
   "pygments_lexer": "ipython3",
   "version": "3.7.10"
  }
 },
 "nbformat": 4,
 "nbformat_minor": 5
}
