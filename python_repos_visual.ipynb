{
 "cells": [
  {
   "cell_type": "code",
   "execution_count": 17,
   "id": "4bc9c46c-ef3d-47e4-ba01-ea8bf341a0c2",
   "metadata": {},
   "outputs": [],
   "source": [
    "import requests\n",
    "\n",
    "from plotly.graph_objs import Bar\n",
    "from plotly import offline"
   ]
  },
  {
   "cell_type": "markdown",
   "id": "ea253775-8c1b-4d14-807c-76be39261c07",
   "metadata": {},
   "source": [
    "#### Make an API call and store the response."
   ]
  },
  {
   "cell_type": "code",
   "execution_count": 18,
   "id": "3494da30-4ec0-48ce-ae54-ab06b3e681be",
   "metadata": {},
   "outputs": [
    {
     "name": "stdout",
     "output_type": "stream",
     "text": [
      "Status code: 200\n"
     ]
    }
   ],
   "source": [
    "url = 'https://api.github.com/search/repositories?q=language:python&sort=stars'\n",
    "headers = {'Accept': 'application/vnd.github.v3+json'}\n",
    "r = requests.get(url, headers=headers)\n",
    "print(f\"Status code: {r.status_code}\")"
   ]
  },
  {
   "cell_type": "markdown",
   "id": "20ebd678-f673-4fed-bda4-5c6c00ad0be5",
   "metadata": {},
   "source": [
    "#### Process the results."
   ]
  },
  {
   "cell_type": "code",
   "execution_count": 19,
   "id": "af536686-befc-4e6f-ae49-8670f90f0b56",
   "metadata": {},
   "outputs": [],
   "source": [
    "response_dict = r.json()\n",
    "repo_dicts = response_dict['items']\n",
    "repo_links, stars, labels = [], [], []\n",
    "for repo_dict in repo_dicts:\n",
    "    repo_name = repo_dict['name']\n",
    "    repo_url = repo_dict['html_url']\n",
    "    repo_link = f\"<a href='{repo_url}'>{repo_name}</a>\"\n",
    "    repo_links.append(repo_link)\n",
    "    \n",
    "    stars.append(repo_dict['stargazers_count'])\n",
    "    \n",
    "    owner = repo_dict['owner']['login']\n",
    "    description = repo_dict['description']\n",
    "    label = f\"{owner}<br />{description}\"\n",
    "    labels.append(label)"
   ]
  },
  {
   "cell_type": "markdown",
   "id": "d91580be-a02d-4adb-a7aa-4a465ab762e2",
   "metadata": {},
   "source": [
    "#### Make the visualization."
   ]
  },
  {
   "cell_type": "code",
   "execution_count": 20,
   "id": "08e3371f-61d8-414f-912a-0e890cc78e26",
   "metadata": {},
   "outputs": [
    {
     "data": {
      "text/plain": [
       "'python_repos.html'"
      ]
     },
     "execution_count": 20,
     "metadata": {},
     "output_type": "execute_result"
    }
   ],
   "source": [
    "data = [{\n",
    "    'type': 'bar',\n",
    "    'x': repo_links,\n",
    "    'y': stars,\n",
    "    'hovertext': labels,\n",
    "    'marker': {\n",
    "        'color': 'rgb(60, 100, 150)',\n",
    "        'line': {'width': 1.5, 'color': 'rgb(25, 25, 25)'}\n",
    "    },\n",
    "    'opacity': 0.6,\n",
    "}]\n",
    "\n",
    "my_layout = {\n",
    "    'title': 'Most-Starred Python Projects on Github',\n",
    "    'titlefont': {'size': 28},\n",
    "    'xaxis': {\n",
    "        'title': 'Repository',\n",
    "        'titlefont': {'size': 24},\n",
    "        'tickfont': {'size': 14},\n",
    "    },\n",
    "    'yaxis': {\n",
    "        'title': 'Stars',\n",
    "        'titlefont': {'size': 24},\n",
    "        'tickfont': {'size': 14},\n",
    "    },\n",
    "}\n",
    "\n",
    "fig = {'data': data, 'layout': my_layout}\n",
    "offline.plot(fig, filename='python_repos.html')"
   ]
  }
 ],
 "metadata": {
  "kernelspec": {
   "display_name": "Python 3 (ipykernel)",
   "language": "python",
   "name": "python3"
  },
  "language_info": {
   "codemirror_mode": {
    "name": "ipython",
    "version": 3
   },
   "file_extension": ".py",
   "mimetype": "text/x-python",
   "name": "python",
   "nbconvert_exporter": "python",
   "pygments_lexer": "ipython3",
   "version": "3.7.10"
  }
 },
 "nbformat": 4,
 "nbformat_minor": 5
}
