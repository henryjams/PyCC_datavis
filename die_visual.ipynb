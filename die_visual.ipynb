{
 "cells": [
  {
   "cell_type": "code",
   "execution_count": 3,
   "id": "82db1556-027d-4198-b426-69f3c5e54591",
   "metadata": {},
   "outputs": [],
   "source": [
    "from random import randint"
   ]
  },
  {
   "cell_type": "markdown",
   "id": "cad1a5c4-5ff8-4141-8951-7e84f9049b48",
   "metadata": {},
   "source": [
    "Create a class for the Die"
   ]
  },
  {
   "cell_type": "code",
   "execution_count": 4,
   "id": "4a016581-fc6d-47e8-a810-adbbbcf628ae",
   "metadata": {},
   "outputs": [],
   "source": [
    "class Die:\n",
    "    \n",
    "    def __init__(self, num_sides = 6):\n",
    "        \"\"\"Assume a six-sided die\"\"\"\n",
    "        self.num_sides = num_sides\n",
    "        \n",
    "    def roll(self):\n",
    "        \"\"\"Return a random value between 1 and num of sides\"\"\"\n",
    "        return randint(1, self.num_sides)"
   ]
  },
  {
   "cell_type": "markdown",
   "id": "45132a77-9548-4dd1-a3e7-cd13a70ba772",
   "metadata": {},
   "source": [
    "Create a visual for the dice roll"
   ]
  },
  {
   "cell_type": "code",
   "execution_count": 5,
   "id": "83702706-91a6-4899-8e68-23615e2d3aa6",
   "metadata": {},
   "outputs": [
    {
     "name": "stdout",
     "output_type": "stream",
     "text": [
      "[6, 4, 2, 5, 3, 2, 4, 4, 6, 1, 6, 2, 5, 2, 6, 2, 4, 3, 4, 5, 2, 2, 5, 4, 5, 4, 4, 6, 3, 2, 3, 4, 1, 3, 4, 6, 1, 2, 6, 2, 1, 1, 6, 5, 3, 6, 4, 5, 5, 4, 5, 4, 4, 2, 2, 2, 2, 6, 1, 2, 1, 4, 5, 4, 2, 4, 4, 5, 4, 1, 4, 3, 6, 5, 4, 3, 6, 3, 1, 1, 5, 6, 3, 4, 5, 6, 5, 1, 5, 2, 4, 6, 1, 2, 4, 4, 5, 4, 4, 4]\n"
     ]
    }
   ],
   "source": [
    "# If no argument is passed, die is assumed to be D6\n",
    "die = Die()\n",
    "\n",
    "# Make some rolls, and store results in a list\n",
    "results = []\n",
    "for roll_num in range(100):\n",
    "    result = die.roll()\n",
    "    results.append(result)\n",
    "    \n",
    "print(results)"
   ]
  }
 ],
 "metadata": {
  "kernelspec": {
   "display_name": "Python 3 (ipykernel)",
   "language": "python",
   "name": "python3"
  },
  "language_info": {
   "codemirror_mode": {
    "name": "ipython",
    "version": 3
   },
   "file_extension": ".py",
   "mimetype": "text/x-python",
   "name": "python",
   "nbconvert_exporter": "python",
   "pygments_lexer": "ipython3",
   "version": "3.7.10"
  }
 },
 "nbformat": 4,
 "nbformat_minor": 5
}
