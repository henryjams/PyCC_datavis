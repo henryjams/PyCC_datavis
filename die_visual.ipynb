{
 "cells": [
  {
   "cell_type": "code",
   "execution_count": 39,
   "id": "82db1556-027d-4198-b426-69f3c5e54591",
   "metadata": {},
   "outputs": [],
   "source": [
    "from random import randint\n",
    "\n",
    "from plotly.graph_objs import Bar, Layout\n",
    "from plotly import offline"
   ]
  },
  {
   "cell_type": "markdown",
   "id": "cad1a5c4-5ff8-4141-8951-7e84f9049b48",
   "metadata": {},
   "source": [
    "Create a class for the Die"
   ]
  },
  {
   "cell_type": "code",
   "execution_count": 40,
   "id": "4a016581-fc6d-47e8-a810-adbbbcf628ae",
   "metadata": {},
   "outputs": [],
   "source": [
    "class Die:\n",
    "    \n",
    "    def __init__(self, num_sides = 6):\n",
    "        \"\"\"Assume a six-sided die\"\"\"\n",
    "        self.num_sides = num_sides\n",
    "        \n",
    "    def roll(self):\n",
    "        \"\"\"Return a random value between 1 and num of sides\"\"\"\n",
    "        return randint(1, self.num_sides)"
   ]
  },
  {
   "cell_type": "markdown",
   "id": "45132a77-9548-4dd1-a3e7-cd13a70ba772",
   "metadata": {},
   "source": [
    "Create a visual for the dice roll"
   ]
  },
  {
   "cell_type": "code",
   "execution_count": 41,
   "id": "83702706-91a6-4899-8e68-23615e2d3aa6",
   "metadata": {},
   "outputs": [],
   "source": [
    "# If no argument is passed, die is assumed to be D6\n",
    "die_1 = Die()\n",
    "die_2 = Die(10)\n",
    "\n",
    "# Make some rolls, and store results in a list\n",
    "results = []\n",
    "for roll_num in range(50_000):\n",
    "    result = die_1.roll() + die_2.roll()\n",
    "    results.append(result)"
   ]
  },
  {
   "cell_type": "markdown",
   "id": "5254b3cc-6c58-4d88-9299-d02d4fe0b41e",
   "metadata": {},
   "source": [
    "Analysis of die rolls"
   ]
  },
  {
   "cell_type": "code",
   "execution_count": 42,
   "id": "81b5efd4-64f8-4711-bf65-9232c0c3c4cd",
   "metadata": {},
   "outputs": [],
   "source": [
    "frequencies = []\n",
    "max_result = die_1.num_sides + die_2.num_sides\n",
    "for value in range(2, max_result+1):\n",
    "    frequency = results.count(value)\n",
    "    frequencies.append(frequency)"
   ]
  },
  {
   "cell_type": "markdown",
   "id": "69205006-6cee-4f93-b4fc-8b9de809c0d2",
   "metadata": {},
   "source": [
    "Visualize the results"
   ]
  },
  {
   "cell_type": "code",
   "execution_count": 43,
   "id": "dc045b6c-6f1f-4b4e-bdca-2bbe034425ae",
   "metadata": {},
   "outputs": [
    {
     "data": {
      "text/plain": [
       "'d6_d10.html'"
      ]
     },
     "execution_count": 43,
     "metadata": {},
     "output_type": "execute_result"
    }
   ],
   "source": [
    "x_vals = list(range(2, max_result+1))\n",
    "data = [Bar(x = x_vals, y = frequencies)]\n",
    "\n",
    "x_axis_config = {'title': 'Result', 'dtick': 1}\n",
    "y_axis_config = {'title': 'Frequency of Result'}\n",
    "my_layout = Layout(title = 'Results of rolling a D6 and a D10 50,000 times', xaxis = x_axis_config, yaxis = y_axis_config)\n",
    "offline.plot({'data': data, 'layout': my_layout}, filename = 'd6_d10.html')"
   ]
  }
 ],
 "metadata": {
  "kernelspec": {
   "display_name": "Python 3 (ipykernel)",
   "language": "python",
   "name": "python3"
  },
  "language_info": {
   "codemirror_mode": {
    "name": "ipython",
    "version": 3
   },
   "file_extension": ".py",
   "mimetype": "text/x-python",
   "name": "python",
   "nbconvert_exporter": "python",
   "pygments_lexer": "ipython3",
   "version": "3.7.10"
  }
 },
 "nbformat": 4,
 "nbformat_minor": 5
}
