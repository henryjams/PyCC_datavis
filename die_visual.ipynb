{
 "cells": [
  {
   "cell_type": "code",
   "execution_count": 11,
   "id": "82db1556-027d-4198-b426-69f3c5e54591",
   "metadata": {},
   "outputs": [],
   "source": [
    "from random import randint"
   ]
  },
  {
   "cell_type": "markdown",
   "id": "cad1a5c4-5ff8-4141-8951-7e84f9049b48",
   "metadata": {},
   "source": [
    "Create a class for the Die"
   ]
  },
  {
   "cell_type": "code",
   "execution_count": 12,
   "id": "4a016581-fc6d-47e8-a810-adbbbcf628ae",
   "metadata": {},
   "outputs": [],
   "source": [
    "class Die:\n",
    "    \n",
    "    def __init__(self, num_sides = 6):\n",
    "        \"\"\"Assume a six-sided die\"\"\"\n",
    "        self.num_sides = num_sides\n",
    "        \n",
    "    def roll(self):\n",
    "        \"\"\"Return a random value between 1 and num of sides\"\"\"\n",
    "        return randint(1, self.num_sides)"
   ]
  },
  {
   "cell_type": "markdown",
   "id": "45132a77-9548-4dd1-a3e7-cd13a70ba772",
   "metadata": {},
   "source": [
    "Create a visual for the dice roll"
   ]
  },
  {
   "cell_type": "code",
   "execution_count": 13,
   "id": "83702706-91a6-4899-8e68-23615e2d3aa6",
   "metadata": {},
   "outputs": [],
   "source": [
    "# If no argument is passed, die is assumed to be D6\n",
    "die = Die()\n",
    "\n",
    "# Make some rolls, and store results in a list\n",
    "results = []\n",
    "for roll_num in range(1000):\n",
    "    result = die.roll()\n",
    "    results.append(result)"
   ]
  },
  {
   "cell_type": "markdown",
   "id": "5254b3cc-6c58-4d88-9299-d02d4fe0b41e",
   "metadata": {},
   "source": [
    "Analysis of die rolls"
   ]
  },
  {
   "cell_type": "code",
   "execution_count": 14,
   "id": "87eb760e-ddfa-4665-96c7-d1fdf7344e8e",
   "metadata": {},
   "outputs": [
    {
     "name": "stdout",
     "output_type": "stream",
     "text": [
      "[151, 165, 159, 175, 173, 177]\n"
     ]
    }
   ],
   "source": [
    "frequencies = []\n",
    "for value in range(1, die.num_sides+1):\n",
    "    frequency = results.count(value)\n",
    "    frequencies.append(frequency)\n",
    "    \n",
    "print(frequencies)"
   ]
  }
 ],
 "metadata": {
  "kernelspec": {
   "display_name": "Python 3 (ipykernel)",
   "language": "python",
   "name": "python3"
  },
  "language_info": {
   "codemirror_mode": {
    "name": "ipython",
    "version": 3
   },
   "file_extension": ".py",
   "mimetype": "text/x-python",
   "name": "python",
   "nbconvert_exporter": "python",
   "pygments_lexer": "ipython3",
   "version": "3.7.10"
  }
 },
 "nbformat": 4,
 "nbformat_minor": 5
}
