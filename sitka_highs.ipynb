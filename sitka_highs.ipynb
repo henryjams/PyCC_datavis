{
 "cells": [
  {
   "cell_type": "code",
   "execution_count": 14,
   "id": "7f4cb776-ceab-497f-bc3d-37d53f20ca0b",
   "metadata": {},
   "outputs": [],
   "source": [
    "import csv"
   ]
  },
  {
   "cell_type": "code",
   "execution_count": 15,
   "id": "85df466d-f987-40df-846e-fc7be5eb7b01",
   "metadata": {},
   "outputs": [],
   "source": [
    "filename = 'data/sitka_weather_07-2018_simple.csv'\n",
    "with open(filename) as f:\n",
    "    reader = csv.reader(f)\n",
    "    header_row = next(reader)\n",
    "    \n",
    "    highs = []\n",
    "    for row in reader:\n",
    "        high = int(row[5])\n",
    "        highs.append(high)"
   ]
  },
  {
   "cell_type": "code",
   "execution_count": 16,
   "id": "530740ea-0aac-4c59-9fd7-ac2a0e69c566",
   "metadata": {},
   "outputs": [
    {
     "name": "stdout",
     "output_type": "stream",
     "text": [
      "[62, 58, 70, 70, 67, 59, 58, 62, 66, 59, 56, 63, 65, 58, 56, 59, 64, 60, 60, 61, 65, 65, 63, 59, 64, 65, 68, 66, 64, 67, 65]\n"
     ]
    }
   ],
   "source": [
    "print(highs)"
   ]
  }
 ],
 "metadata": {
  "kernelspec": {
   "display_name": "Python 3 (ipykernel)",
   "language": "python",
   "name": "python3"
  },
  "language_info": {
   "codemirror_mode": {
    "name": "ipython",
    "version": 3
   },
   "file_extension": ".py",
   "mimetype": "text/x-python",
   "name": "python",
   "nbconvert_exporter": "python",
   "pygments_lexer": "ipython3",
   "version": "3.7.10"
  }
 },
 "nbformat": 4,
 "nbformat_minor": 5
}
