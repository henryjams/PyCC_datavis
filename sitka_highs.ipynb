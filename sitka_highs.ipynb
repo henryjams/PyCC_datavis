{
 "cells": [
  {
   "cell_type": "code",
   "execution_count": 1,
   "id": "7f4cb776-ceab-497f-bc3d-37d53f20ca0b",
   "metadata": {},
   "outputs": [],
   "source": [
    "import csv"
   ]
  },
  {
   "cell_type": "code",
   "execution_count": 6,
   "id": "85df466d-f987-40df-846e-fc7be5eb7b01",
   "metadata": {},
   "outputs": [
    {
     "name": "stdout",
     "output_type": "stream",
     "text": [
      "0 STATION\n",
      "1 NAME\n",
      "2 DATE\n",
      "3 PRCP\n",
      "4 TAVG\n",
      "5 TMAX\n",
      "6 TMIN\n"
     ]
    }
   ],
   "source": [
    "filename = 'data/sitka_weather_07-2018_simple.csv'\n",
    "with open(filename) as f:\n",
    "    reader = csv.reader(f)\n",
    "    header_row = next(reader)\n",
    "    \n",
    "    for index, column_header in enumerate(header_row):\n",
    "        print(index, column_header)"
   ]
  }
 ],
 "metadata": {
  "kernelspec": {
   "display_name": "Python 3 (ipykernel)",
   "language": "python",
   "name": "python3"
  },
  "language_info": {
   "codemirror_mode": {
    "name": "ipython",
    "version": 3
   },
   "file_extension": ".py",
   "mimetype": "text/x-python",
   "name": "python",
   "nbconvert_exporter": "python",
   "pygments_lexer": "ipython3",
   "version": "3.7.10"
  }
 },
 "nbformat": 4,
 "nbformat_minor": 5
}
