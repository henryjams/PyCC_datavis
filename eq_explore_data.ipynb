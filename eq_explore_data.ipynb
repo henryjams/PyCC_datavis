{
 "cells": [
  {
   "cell_type": "code",
   "execution_count": 18,
   "id": "0ef440ff-d84f-433c-a8f7-50b811698362",
   "metadata": {},
   "outputs": [],
   "source": [
    "import json"
   ]
  },
  {
   "cell_type": "markdown",
   "id": "f041034c-91f5-48c6-b2a5-99c94bbfddc0",
   "metadata": {},
   "source": [
    "Explore the structure of the data:"
   ]
  },
  {
   "cell_type": "code",
   "execution_count": 19,
   "id": "64e271f8-6965-4dd0-8cb0-4cc2562e56cb",
   "metadata": {},
   "outputs": [],
   "source": [
    "filename = 'data/eq_data_1_day_m1.json'\n",
    "with open(filename) as f:\n",
    "    all_eq_data = json.load(f)"
   ]
  },
  {
   "cell_type": "code",
   "execution_count": 20,
   "id": "08fa664d-29b7-4efc-be5a-b8270855b550",
   "metadata": {},
   "outputs": [
    {
     "name": "stdout",
     "output_type": "stream",
     "text": [
      "158\n"
     ]
    }
   ],
   "source": [
    "all_eq_dicts = all_eq_data['features']\n",
    "print(len(all_eq_dicts))"
   ]
  },
  {
   "cell_type": "code",
   "execution_count": 21,
   "id": "2c612407-08f8-4fcc-a65b-55df8b27d87f",
   "metadata": {},
   "outputs": [
    {
     "name": "stdout",
     "output_type": "stream",
     "text": [
      "[0.96, 1.2, 4.3, 3.6, 2.1, 4, 1.06, 2.3, 4.9, 1.8, 3.29, 1.3, 4.5, 3.08, 2.2]\n",
      "[-116.7941667, -148.9865, -74.2343, -161.6801, -118.5316667, -144.1283, -116.7433333, -153.7845, 59.3991, -116.2045, -112.4931667, -148.7061, 161.1651, -111.0103333, -154.4451]\n",
      "[33.4863333, 64.6673, -12.1025, 54.2232, 35.3098333, 69.5346, 33.5148333, 59.6106, -30.7399, 37.0572, 38.7381667, 64.8513, 53.566, 44.4668333, 58.9382]\n"
     ]
    }
   ],
   "source": [
    "mags, longs, lats = [], [], []\n",
    "\n",
    "for eq_dict in all_eq_dicts:\n",
    "    mag = eq_dict['properties']['mag']\n",
    "    long = eq_dict['geometry']['coordinates'][0]\n",
    "    lat = eq_dict['geometry']['coordinates'][1]\n",
    "    mags.append(mag)\n",
    "    longs.append(long)\n",
    "    lats.append(lat)\n",
    "    \n",
    "print(mags[:15])\n",
    "print(longs[:15])\n",
    "print(lats[:15])"
   ]
  }
 ],
 "metadata": {
  "kernelspec": {
   "display_name": "Python 3 (ipykernel)",
   "language": "python",
   "name": "python3"
  },
  "language_info": {
   "codemirror_mode": {
    "name": "ipython",
    "version": 3
   },
   "file_extension": ".py",
   "mimetype": "text/x-python",
   "name": "python",
   "nbconvert_exporter": "python",
   "pygments_lexer": "ipython3",
   "version": "3.7.10"
  }
 },
 "nbformat": 4,
 "nbformat_minor": 5
}
